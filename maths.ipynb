{
 "cells": [
  {
   "cell_type": "code",
   "execution_count": 19,
   "metadata": {},
   "outputs": [
    {
     "data": {
      "image/png": "[encoded data removed]",
      "text/plain": [
       "<Figure size 432x288 with 1 Axes>"
      ]
     },
     "metadata": {},
     "output_type": "display_data"
    }
   ],
   "source": [
    "import matplotlib.pyplot as plt\n",
    "import numpy as np\n",
    "\n",
    "noOfPlots1=50\n",
    "harmonics=100\n",
    "\n",
    "x=list(np.arange(-2*np.pi,2*np.pi+0.001,0.001))\n",
    "period = 2*np.pi\n",
    "def square(x):\n",
    "    if x%period>0 and x%period<period/2:\n",
    "        return 1\n",
    "    else:\n",
    "        return -1\n",
    "def f(v):\n",
    "    value=0;\n",
    "    for x in range(harmonics):\n",
    "        if x%2==1:\n",
    "            value+= (4/(np.pi*x))*np.sin(x*v)\n",
    "        \n",
    "    return value\n",
    "#for noOfPlots in range(1,noOfPlots1,2):\n",
    "y=[] \n",
    "for i in x:\n",
    "    y.append(square(i))\n",
    "fig=plt.figure()\n",
    "ax=fig.add_subplot(111)\n",
    "ax.plot(x,y)\n",
    "ax.axhline(0, color='black')\n",
    "\n",
    "arr=[]\n",
    "for i in x:\n",
    "    arr.append(f(i))\n",
    "ax.plot(x,arr)\n",
    "plt.savefig('pakiaa'+str(50)+'.png')"
   ]
  },
  {
   "cell_type": "code",
   "execution_count": null,
   "metadata": {},
   "outputs": [],
   "source": []
  },
  {
   "cell_type": "code",
   "execution_count": null,
   "metadata": {},
   "outputs": [],
   "source": []
  },
  {
   "cell_type": "code",
   "execution_count": null,
   "metadata": {},
   "outputs": [],
   "source": []
  },
  {
   "cell_type": "code",
   "execution_count": null,
   "metadata": {},
   "outputs": [],
   "source": [
    "\n",
    "\n"
   ]
  },
  {
   "cell_type": "code",
   "execution_count": null,
   "metadata": {},
   "outputs": [],
   "source": []
  },
  {
   "cell_type": "code",
   "execution_count": null,
   "metadata": {},
   "outputs": [],
   "source": []
  },
  {
   "cell_type": "code",
   "execution_count": null,
   "metadata": {},
   "outputs": [],
   "source": []
  }
 ],
 "metadata": {
  "kernelspec": {
   "display_name": "Python 3",
   "language": "python",
   "name": "python3"
  },
  "language_info": {
   "codemirror_mode": {
    "name": "ipython",
    "version": 3
   },
   "file_extension": ".py",
   "mimetype": "text/x-python",
   "name": "python",
   "nbconvert_exporter": "python",
   "pygments_lexer": "ipython3",
   "version": "3.6.5"
  }
 },
 "nbformat": 4,
 "nbformat_minor": 2
}
